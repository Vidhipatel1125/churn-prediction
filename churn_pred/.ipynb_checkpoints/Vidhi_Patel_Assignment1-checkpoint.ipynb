{
 "cells": [
  {
   "cell_type": "code",
   "execution_count": 29,
   "id": "61d53921-7f73-413d-ad85-1c6b3891f98b",
   "metadata": {},
   "outputs": [
    {
     "name": "stdout",
     "output_type": "stream",
     "text": [
      "* contains epoxy cement\n",
      "* contains only epoxy cement and water \n",
      "No match.\n",
      "No match.\n"
     ]
    }
   ],
   "source": [
    "import re\n",
    "def check_sentence(text):\n",
    "    pattern = r'^\\*[A-Za-z0-9\\s]*\\b\\w*oxy\\s[A-Za-z0-9\\s]*$'\n",
    "\n",
    "    match = re.match(pattern, text)\n",
    "    if match:\n",
    "        print(match.group())\n",
    "    else:\n",
    "        print(\"No match.\")\n",
    "\n",
    "check_sentence(\"* contains epoxy cement\")         \n",
    "check_sentence(\"* contains only epoxy cement and water \")\n",
    "check_sentence(\"* contains oxygen cement\")         \n",
    "check_sentence(\"* contains, e.g., expoxy cement\")   \n"
   ]
  },
  {
   "cell_type": "code",
   "execution_count": 31,
   "id": "1ee48dec-9740-4def-971e-cdece940ee40",
   "metadata": {},
   "outputs": [
    {
     "name": "stdout",
     "output_type": "stream",
     "text": [
      "['110V', '100W', '10 mV', '1 mV', '10 mV', '0.01 mV']\n"
     ]
    }
   ],
   "source": [
    "import re\n",
    "text = \"\"\"The power supply used in the experimental setup was rated at 110V and 100W. \n",
    "Experiment 1 showed that average response of the neurons was 10 mVolts and the standard deviation 1 mVolt. \n",
    "On a subsequent experiment the average response was still 10 mV but the standard deviation went down to 0.01 mVolts. \n",
    "The neurons were in V1 were assumed to have identical response distributions.\"\"\"\n",
    "\n",
    "pattern = r'\\d+(?:\\.\\d+)?\\s?(?:mV|mVolt[s]?|V|W)'\n",
    "\n",
    "matches = re.findall(pattern, text)\n",
    "print(matches)\n"
   ]
  },
  {
   "cell_type": "code",
   "execution_count": 27,
   "id": "3130ff47-86ae-4b62-a78e-0b1ed512e39b",
   "metadata": {},
   "outputs": [
    {
     "name": "stdout",
     "output_type": "stream",
     "text": [
      "Source word: intention\n",
      "Target word: execution\n",
      "Minimum edit distance: 5\n",
      "Alignment:\n",
      "i e\n",
      "n x\n",
      "t -\n",
      "e e\n",
      "n c\n",
      "- u\n",
      "t t\n",
      "i i\n",
      "o o\n",
      "n n\n"
     ]
    }
   ],
   "source": [
    "def edit_distance(s1, s2):\n",
    "    n, m = len(s1), len(s2)\n",
    "    dp = [[0]*(m+1) for _ in range(n+1)]\n",
    "    back = [[None]*(m+1) for _ in range(n+1)]\n",
    "    for i in range(n+1):\n",
    "        dp[i][0] = i\n",
    "        back[i][0] = '↑'  # delete\n",
    "    for j in range(m+1):\n",
    "        dp[0][j] = j\n",
    "        back[0][j] = '←'  # insert\n",
    "    back[0][0] = None\n",
    "\n",
    "    for i in range(1, n+1):\n",
    "        for j in range(1, m+1):\n",
    "            cost = 0 if s1[i-1] == s2[j-1] else 1\n",
    "            options = [\n",
    "                (dp[i-1][j] + 1, '↑'),      # delete\n",
    "                (dp[i][j-1] + 1, '←'),      # insert\n",
    "                (dp[i-1][j-1] + cost, '↖')  # substitution or match\n",
    "            ]\n",
    "            dp[i][j], back[i][j] = min(options, key=lambda x: x[0])\n",
    "    \n",
    "    # Backtrace\n",
    "    i, j = n, m\n",
    "    alignment = []\n",
    "    while i > 0 or j > 0:\n",
    "        if back[i][j] == '↖':\n",
    "            alignment.append((s1[i-1], s2[j-1]))\n",
    "            i -= 1; j -= 1\n",
    "        elif back[i][j] == '↑':\n",
    "            alignment.append((s1[i-1], '-'))\n",
    "            i -= 1\n",
    "        elif back[i][j] == '←':\n",
    "            alignment.append(('-', s2[j-1]))\n",
    "            j -= 1\n",
    "    alignment.reverse()\n",
    "    \n",
    "    return dp[n][m], alignment\n",
    "\n",
    "\n",
    "s1 = \"intention\"\n",
    "s2 = \"execution\"\n",
    "distance, alignment = edit_distance(s1, s2)\n",
    "print(\"Source word:\", s1)\n",
    "print(\"Target word:\", s2)\n",
    "print(\"Minimum edit distance:\", distance)\n",
    "print(\"Alignment:\")\n",
    "for a, b in alignment:\n",
    "    print(a, b)\n"
   ]
  },
  {
   "cell_type": "code",
   "execution_count": null,
   "id": "42007275-d5b9-4794-b48d-a9701a1b2b5e",
   "metadata": {},
   "outputs": [],
   "source": []
  }
 ],
 "metadata": {
  "kernelspec": {
   "display_name": "pactice",
   "language": "python",
   "name": "prac_kernel"
  },
  "language_info": {
   "codemirror_mode": {
    "name": "ipython",
    "version": 3
   },
   "file_extension": ".py",
   "mimetype": "text/x-python",
   "name": "python",
   "nbconvert_exporter": "python",
   "pygments_lexer": "ipython3",
   "version": "3.12.2"
  }
 },
 "nbformat": 4,
 "nbformat_minor": 5
}
